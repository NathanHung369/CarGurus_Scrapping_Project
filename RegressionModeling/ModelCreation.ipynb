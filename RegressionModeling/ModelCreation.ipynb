{
 "cells": [
  {
   "cell_type": "code",
   "execution_count": 17,
   "metadata": {},
   "outputs": [],
   "source": [
    "import json\n",
    "import psycopg2\n",
    "import urllib.parse as up\n",
    "import pandas as pd\n",
    "import re\n",
    "import urllib3\n",
    "from datetime import date\n",
    "import os\n",
    "import sklearn\n",
    "import matplotlib\n",
    "import numpy\n"
   ]
  },
  {
   "cell_type": "markdown",
   "metadata": {},
   "source": [
    "Connect to Database and convert relevent data into a DataFrame"
   ]
  },
  {
   "cell_type": "code",
   "execution_count": 18,
   "metadata": {},
   "outputs": [
    {
     "name": "stdout",
     "output_type": "stream",
     "text": [
      "       0      1           2          3\n",
      "0   2017  31971   Toyota 86     Manual\n",
      "1   2018  37032   Toyota 86     Manual\n",
      "2   2017  16333   Toyota 86  Automatic\n",
      "3   2020  11535  Subaru BRZ     Manual\n",
      "4   2022   2921  Subaru BRZ     Manual\n",
      "..   ...    ...         ...        ...\n",
      "77  2020  24596  Subaru BRZ  Automatic\n",
      "78  2019  13470   Toyota 86     Manual\n",
      "79  2020  28918   Toyota 86  Automatic\n",
      "80  2016  32377  Subaru BRZ     Manual\n",
      "81  2018  33495  Subaru BRZ     Manual\n",
      "\n",
      "[82 rows x 4 columns]\n"
     ]
    }
   ],
   "source": [
    "#Connect to Database\n",
    "\n",
    "parentDir = os.path.dirname(os.getcwd())\n",
    "cred = json.load(open(parentDir+'/PSQLCredentials.json'))\n",
    "\n",
    "\n",
    "url = up.urlparse(cred[1]['connString'])\n",
    "\n",
    "conn = psycopg2.connect(database=url.path[1:], user=url.username, password=url.password, host=url.hostname, port=url.port )\n",
    "cursor  = conn.cursor()\n",
    "cursor.execute(\"select * from (select caryear, mileage, model, Case When transmission like '%Manual%' Then 'Manual' When transmission like '%Automatic%' Then 'Automatic' Else 'Unknown' End transmission from listings where caryear is not null and mileage is not null and transmission is not null and model is not null) a where a.transmission != 'Unknown'\")\n",
    "conn.commit()\n",
    "data = pd.DataFrame(cursor.fetchall())\n",
    "print(data)\n",
    "\n",
    "\n",
    "cursor .close()\n",
    "conn.close()"
   ]
  }
 ],
 "metadata": {
  "kernelspec": {
   "display_name": "Python 3.9.7 64-bit",
   "language": "python",
   "name": "python3"
  },
  "language_info": {
   "codemirror_mode": {
    "name": "ipython",
    "version": 3
   },
   "file_extension": ".py",
   "mimetype": "text/x-python",
   "name": "python",
   "nbconvert_exporter": "python",
   "pygments_lexer": "ipython3",
   "version": "3.9.7"
  },
  "orig_nbformat": 4,
  "vscode": {
   "interpreter": {
    "hash": "e6188657b764ebd2e2049ca165f00f1f1826e7e744e1718aa90a1b75ebf0a7c8"
   }
  }
 },
 "nbformat": 4,
 "nbformat_minor": 2
}
